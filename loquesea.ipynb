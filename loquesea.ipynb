{
 "cells": [
  {
   "cell_type": "code",
   "execution_count": 1,
   "metadata": {},
   "outputs": [
    {
     "name": "stderr",
     "output_type": "stream",
     "text": [
      "Traceback (most recent call last):\n",
      "  File \"<frozen runpy>\", line 198, in _run_module_as_main\n",
      "  File \"<frozen runpy>\", line 88, in _run_code\n",
      "  File \"C:\\Users\\coron\\anaconda3\\Scripts\\nbdev_new.exe\\__main__.py\", line 4, in <module>\n",
      "  File \"C:\\Users\\coron\\anaconda3\\Lib\\site-packages\\nbdev\\cli.py\", line 13, in <module>\n",
      "    from .quarto import nbdev_readme, refresh_quarto_yml\n",
      "  File \"C:\\Users\\coron\\anaconda3\\Lib\\site-packages\\nbdev\\quarto.py\", line 6, in <module>\n",
      "    from os import system, uname\n",
      "ImportError: cannot import name 'uname' from 'os' (C:\\Users\\coron\\anaconda3\\Lib\\os.py)\n"
     ]
    }
   ],
   "source": [
    "!nbdev_new"
   ]
  }
 ],
 "metadata": {
  "kernelspec": {
   "display_name": "base",
   "language": "python",
   "name": "python3"
  },
  "language_info": {
   "codemirror_mode": {
    "name": "ipython",
    "version": 3
   },
   "file_extension": ".py",
   "mimetype": "text/x-python",
   "name": "python",
   "nbconvert_exporter": "python",
   "pygments_lexer": "ipython3",
   "version": "3.11.4"
  }
 },
 "nbformat": 4,
 "nbformat_minor": 2
}
