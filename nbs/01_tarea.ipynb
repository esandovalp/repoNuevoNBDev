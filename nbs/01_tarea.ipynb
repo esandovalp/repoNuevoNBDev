{
 "cells": [
  {
   "cell_type": "markdown",
   "metadata": {},
   "source": [
    "# Tarea\n",
    "\n",
    "> Objeto Tarea para implementar en un Administrador de Tareas"
   ]
  },
  {
   "cell_type": "code",
   "execution_count": 1,
   "metadata": {},
   "outputs": [],
   "source": [
    "#| default_exp Tarea"
   ]
  },
  {
   "cell_type": "code",
   "execution_count": 2,
   "metadata": {},
   "outputs": [],
   "source": [
    "#| hide\n",
    "from nbdev.showdoc import *\n",
    "from fastcore.test import *\n",
    "from fastcore.basics import *"
   ]
  },
  {
   "cell_type": "code",
   "execution_count": 3,
   "metadata": {},
   "outputs": [],
   "source": [
    "#| export\n",
    "class Tarea:\n",
    "    \"Objeto que contiene un titulo, una descripcion, un estado (completo o no completado)\"\n",
    "    def __init__(self, \n",
    "                 titulo:str, # Titulo de la tarea \n",
    "                 fecha_entrega:str, # Fecha de entrega en formato dd/mm/aaaa\n",
    "                 descripcion:str='' # Informacion adicional sobre la tarea\n",
    "                 ) -> None:\n",
    "        self.titulo = titulo\n",
    "        self.descripcion = descripcion\n",
    "        fecha_entrega = fecha_entrega\n",
    "        self.completado = False\n",
    "    \n",
    "    \n",
    "    def __str__(self) -> str:\n",
    "        \"Regresa la informacion completa sobre la tarea en formato String\"\n",
    "        return f'Tarea: {self.titulo}. \\nDescripcion: {self.descripcion}. \\nFecha de entrega: {self.fecha_entrega}. \\nCompletada: {self.completado}'\n",
    "    __repr__=__str__\n"
   ]
  },
  {
   "cell_type": "code",
   "execution_count": 4,
   "metadata": {},
   "outputs": [
    {
     "data": {
      "text/markdown": [
       "---\n",
       "\n",
       "[source](https://github.com/esandovalp/repoNuevoNBDev/blob/main/repoNuevoNBDev/Tarea.py#L7){target=\"_blank\" style=\"float:right; font-size:smaller\"}\n",
       "\n",
       "### Tarea\n",
       "\n",
       ">      Tarea (titulo:str, fecha_entrega:str, descripcion:str='')\n",
       "\n",
       "Objeto que contiene un titulo, una descripcion, un estado (completo o no completado)\n",
       "\n",
       "|    | **Type** | **Default** | **Details** |\n",
       "| -- | -------- | ----------- | ----------- |\n",
       "| titulo | str |  | Titulo de la tarea |\n",
       "| fecha_entrega | str |  | Fecha de entrega en formato dd/mm/aaaa |\n",
       "| descripcion | str |  | Informacion adicional sobre la tarea |\n",
       "| **Returns** | **None** |  |  |"
      ],
      "text/plain": [
       "---\n",
       "\n",
       "[source](https://github.com/esandovalp/repoNuevoNBDev/blob/main/repoNuevoNBDev/Tarea.py#L7){target=\"_blank\" style=\"float:right; font-size:smaller\"}\n",
       "\n",
       "### Tarea\n",
       "\n",
       ">      Tarea (titulo:str, fecha_entrega:str, descripcion:str='')\n",
       "\n",
       "Objeto que contiene un titulo, una descripcion, un estado (completo o no completado)\n",
       "\n",
       "|    | **Type** | **Default** | **Details** |\n",
       "| -- | -------- | ----------- | ----------- |\n",
       "| titulo | str |  | Titulo de la tarea |\n",
       "| fecha_entrega | str |  | Fecha de entrega en formato dd/mm/aaaa |\n",
       "| descripcion | str |  | Informacion adicional sobre la tarea |\n",
       "| **Returns** | **None** |  |  |"
      ]
     },
     "execution_count": 4,
     "metadata": {},
     "output_type": "execute_result"
    }
   ],
   "source": [
    "show_doc(Tarea)"
   ]
  },
  {
   "cell_type": "code",
   "execution_count": 5,
   "metadata": {},
   "outputs": [],
   "source": [
    "#| hide\n",
    "import nbdev; nbdev.nbdev_export()"
   ]
  }
 ],
 "metadata": {
  "kernelspec": {
   "display_name": "python3",
   "language": "python",
   "name": "python3"
  },
  "language_info": {
   "codemirror_mode": {
    "name": "ipython",
    "version": 3
   },
   "file_extension": ".py",
   "mimetype": "text/x-python",
   "name": "python",
   "nbconvert_exporter": "python",
   "pygments_lexer": "ipython3",
   "version": "3.10.12"
  }
 },
 "nbformat": 4,
 "nbformat_minor": 4
}
