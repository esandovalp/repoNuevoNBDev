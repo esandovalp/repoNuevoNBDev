{
 "cells": [
  {
   "cell_type": "markdown",
   "metadata": {},
   "source": [
    "# Lista de Supermercado\n",
    "\n",
    "> Objeto ListaDeSupermercado para manejar una colección de artículos de supermercado."
   ]
  },
  {
   "cell_type": "code",
   "execution_count": 2,
   "metadata": {},
   "outputs": [],
   "source": [
    "#| default_exp Lista de supermercado"
   ]
  },
  {
   "cell_type": "code",
   "execution_count": 3,
   "metadata": {},
   "outputs": [],
   "source": [
    "#| hide\n",
    "from nbdev.showdoc import *\n",
    "from fastcore.test import *\n",
    "from fastcore.basics import *"
   ]
  },
  {
   "cell_type": "code",
   "execution_count": 13,
   "metadata": {},
   "outputs": [],
   "source": [
    "#| export\n",
    "class Articulo:\n",
    "    \"Objeto que contiene un nombre, una cantidad a comprar, y un estado de agregado (se agrego o no se agrego)\"\n",
    "    def __init__(self, \n",
    "                 nombre:str, # Nombre del articulo  \n",
    "                 cantidad:int, # Cantidad a comprar del articulo\n",
    "                 agregado:bool=False # Estado de agregado del articulo\n",
    "                 ) -> None:\n",
    "        self.nombre = nombre\n",
    "        self.cantidad = cantidad\n",
    "        self.agregado = agregado    \n",
    "    \n",
    "    def __str__(self) -> str:\n",
    "        \"Regresa la información completa sobre el artículo en formato String\"\n",
    "        return f'Artículo: {self.nombre}. \\nCantidad: {self.cantidad}. \\nEstado: {agregado}'\n",
    "    __repr__=__str__"
   ]
  },
  {
   "cell_type": "code",
   "execution_count": 14,
   "metadata": {},
   "outputs": [
    {
     "data": {
      "text/markdown": [
       "---\n",
       "\n",
       "### Articulo\n",
       "\n",
       ">      Articulo (nombre:str, cantidad:int, agregado:bool=False)\n",
       "\n",
       "Objeto que contiene un nombre, una cantidad a comprar, y un estado de agregado (se agrego o no se agrego)\n",
       "\n",
       "|    | **Type** | **Default** | **Details** |\n",
       "| -- | -------- | ----------- | ----------- |\n",
       "| nombre | str |  | Nombre del articulo |\n",
       "| cantidad | int |  | Cantidad a comprar del articulo |\n",
       "| agregado | bool | False | Estado de agregado del articulo |\n",
       "| **Returns** | **None** |  |  |"
      ],
      "text/plain": [
       "---\n",
       "\n",
       "### Articulo\n",
       "\n",
       ">      Articulo (nombre:str, cantidad:int, agregado:bool=False)\n",
       "\n",
       "Objeto que contiene un nombre, una cantidad a comprar, y un estado de agregado (se agrego o no se agrego)\n",
       "\n",
       "|    | **Type** | **Default** | **Details** |\n",
       "| -- | -------- | ----------- | ----------- |\n",
       "| nombre | str |  | Nombre del articulo |\n",
       "| cantidad | int |  | Cantidad a comprar del articulo |\n",
       "| agregado | bool | False | Estado de agregado del articulo |\n",
       "| **Returns** | **None** |  |  |"
      ]
     },
     "execution_count": 14,
     "metadata": {},
     "output_type": "execute_result"
    }
   ],
   "source": [
    "show_doc(Articulo)"
   ]
  },
  {
   "cell_type": "code",
   "execution_count": 19,
   "metadata": {},
   "outputs": [],
   "source": [
    "#| export\n",
    "class Articulo:\n",
    "    \"Objeto que contiene un nombre, cantidad a comprar y un estado (agregado o no)\"\n",
    "    def __init__(self, \n",
    "                 nombre:str, # Nombre del artículo \n",
    "                 cantidad:int, # Cantidad del artículo a comprar\n",
    "                 agregado:bool=False # Indica si el artículo ya fue agregado a la lista\n",
    "                 ) -> None:\n",
    "        self.nombre = nombre\n",
    "        self.cantidad = cantidad\n",
    "        self.agregado = agregado\n",
    "    \n",
    "    def __str__(self) -> str:\n",
    "        \"Regresa la información completa sobre el artículo en formato String\"\n",
    "        return f'Artículo: {self.nombre}. \\nCantidad: {self.cantidad}. \\nEstado: {estado}'\n",
    "    __repr__=__str__"
   ]
  },
  {
   "cell_type": "code",
   "execution_count": 20,
   "metadata": {},
   "outputs": [
    {
     "data": {
      "text/markdown": [
       "---\n",
       "\n",
       "### ListaDeSupermercado\n",
       "\n",
       ">      ListaDeSupermercado (articulos:list[__main__.Articulo])\n",
       "\n",
       "Objeto que inicializa una lista de artículos y realiza operaciones sobre ella"
      ],
      "text/plain": [
       "---\n",
       "\n",
       "### ListaDeSupermercado\n",
       "\n",
       ">      ListaDeSupermercado (articulos:list[__main__.Articulo])\n",
       "\n",
       "Objeto que inicializa una lista de artículos y realiza operaciones sobre ella"
      ]
     },
     "execution_count": 20,
     "metadata": {},
     "output_type": "execute_result"
    }
   ],
   "source": [
    "show_doc(ListaDeSupermercado)"
   ]
  },
  {
   "cell_type": "code",
   "execution_count": 8,
   "metadata": {},
   "outputs": [],
   "source": [
    "#| hide\n",
    "import nbdev; nbdev.nbdev_export()"
   ]
  }
 ],
 "metadata": {
  "kernelspec": {
   "display_name": "python3",
   "language": "python",
   "name": "python3"
  },
  "language_info": {
   "codemirror_mode": {
    "name": "ipython",
    "version": 3
   },
   "file_extension": ".py",
   "mimetype": "text/x-python",
   "name": "python",
   "nbconvert_exporter": "python",
   "pygments_lexer": "ipython3",
   "version": "3.10.12"
  }
 },
 "nbformat": 4,
 "nbformat_minor": 4
}
